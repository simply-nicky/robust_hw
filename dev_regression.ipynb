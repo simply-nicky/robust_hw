{
 "cells": [
  {
   "cell_type": "code",
   "execution_count": null,
   "metadata": {},
   "outputs": [],
   "source": [
    "from qcm_data import QCMData, WindowDataset, AutoregressiveLSTM\n",
    "import numpy as np\n",
    "import matplotlib.pyplot as plt\n",
    "import pandas as pd\n",
    "import seaborn as sns\n",
    "from sklearn.gaussian_process import GaussianProcessRegressor\n",
    "from sklearn.gaussian_process.kernels import RBF, WhiteKernel, ConstantKernel, ExpSineSquared\n",
    "from sklearn.model_selection import train_test_split\n",
    "from scipy.ndimage import uniform_filter, gaussian_filter\n",
    "from scipy.signal import find_peaks\n",
    "from scipy.interpolate import interp1d"
   ]
  },
  {
   "cell_type": "code",
   "execution_count": null,
   "metadata": {},
   "outputs": [],
   "source": [
    "data = QCMData.import_hdf('data/Z-230203B.h5', 'data')"
   ]
  },
  {
   "cell_type": "code",
   "execution_count": null,
   "metadata": {},
   "outputs": [],
   "source": [
    "qcm = data.extract_rotations('s1', limits=(np.deg2rad(270), np.deg2rad(390)))\n",
    "\n",
    "dqcm = np.diff(qcm)\n",
    "mins = find_peaks(-dqcm)[0]\n",
    "bgd = interp1d(mins, dqcm[mins], 'linear', fill_value='extrapolate')(np.arange(dqcm.size))\n",
    "\n",
    "maxs = find_peaks(dqcm)[0]\n",
    "maxs = maxs[dqcm[maxs] > 0.8 * (np.max(dqcm) - np.min(dqcm)) + np.min(dqcm)]\n",
    "period = (maxs[1:] - maxs[:-1]).mean()\n",
    "\n",
    "sgn = period * uniform_filter(dqcm - bgd, period, mode='nearest')"
   ]
  },
  {
   "cell_type": "code",
   "execution_count": null,
   "metadata": {},
   "outputs": [],
   "source": [
    "%matplotlib widget\n",
    "fig, ax = plt.subplots(figsize=(8, 4))\n",
    "ax.plot(np.arange(dqcm.size), dqcm)\n",
    "ax.plot(np.arange(bgd.size), bgd)\n",
    "ax.plot(np.arange(sgn.size), sgn)\n",
    "ax.grid(True)\n",
    "plt.show()"
   ]
  },
  {
   "attachments": {},
   "cell_type": "markdown",
   "metadata": {},
   "source": [
    "# Tree Regressors"
   ]
  },
  {
   "cell_type": "code",
   "execution_count": null,
   "metadata": {},
   "outputs": [],
   "source": [
    "from sklearn.tree import DecisionTreeRegressor\n",
    "from sklearn.ensemble import RandomForestRegressor, GradientBoostingRegressor\n",
    "from sklearn.multioutput import RegressorChain\n",
    "\n",
    "lag = 500\n",
    "overhead = 50\n",
    "\n",
    "x_train = np.lib.stride_tricks.sliding_window_view(ddqcm[:5000], lag)\n",
    "y_train = np.lib.stride_tricks.sliding_window_view(ddqcm[lag:5000 + overhead], overhead)\n",
    "\n",
    "x_test = np.lib.stride_tricks.sliding_window_view(ddqcm[5000:6000], lag)\n",
    "y_test = np.lib.stride_tricks.sliding_window_view(ddqcm[5000 + lag:6000 + overhead], overhead)\n",
    "\n",
    "print(x_train.shape, y_train.shape)\n",
    "\n",
    "rf_reg = RandomForestRegressor(max_depth=10, n_estimators=100)\n",
    "\n",
    "gb_reg = RegressorChain(GradientBoostingRegressor(random_state=42))\n",
    "\n",
    "rf_reg.fit(x_train, y_train)"
   ]
  },
  {
   "cell_type": "code",
   "execution_count": null,
   "metadata": {},
   "outputs": [],
   "source": [
    "%matplotlib widget\n",
    "idx = 10\n",
    "\n",
    "pred_forest = np.stack([mdl.predict(x_train[[idx]])[0] for mdl in rf_reg.estimators_])\n",
    "lower = np.quantile(pred_forest, 0.05, axis=0)\n",
    "upper = np.quantile(pred_forest, 0.95, axis=0)\n",
    "\n",
    "fig, ax = plt.subplots()\n",
    "ax.plot(np.arange(idx, idx + lag), dqcm[idx] + np.cumsum(x_train[idx]), c='b')\n",
    "ax.plot(np.arange(idx + lag, idx + lag + overhead) - 1,\n",
    "        dqcm[lag + idx] + np.cumsum(np.append(0, y_train[idx]))[:-1],\n",
    "        c='g', linestyle='dashed')\n",
    "ax.plot(np.arange(idx + lag, idx + lag + overhead) - 1,\n",
    "        dqcm[lag + idx] + np.cumsum(np.append(0, tree.predict(x_train[[idx]])[0]))[:-1], c='r')\n",
    "ax.fill_between(np.arange(idx + lag, idx + lag + overhead) - 1,\n",
    "                dqcm[lag + idx] + np.cumsum(np.append(0, lower))[:-1],\n",
    "                dqcm[lag + idx] + np.cumsum(np.append(0, upper))[:-1], color='r', alpha=0.2)\n",
    "fig.tight_layout()\n",
    "plt.show()"
   ]
  },
  {
   "cell_type": "code",
   "execution_count": null,
   "metadata": {},
   "outputs": [],
   "source": [
    "%matplotlib widget\n",
    "idx = 40\n",
    "\n",
    "pred_forest = np.stack([mdl.predict(x_test[[idx]])[0] for mdl in tree.estimators_])\n",
    "lower = np.quantile(pred_forest, 0.05, axis=0)\n",
    "upper = np.quantile(pred_forest, 0.95, axis=0)\n",
    "\n",
    "fig, ax = plt.subplots()\n",
    "ax.plot(np.arange(idx, idx + lag), dqcm[5000 + idx] + np.cumsum(x_test[idx]), c='b')\n",
    "ax.plot(np.arange(idx + lag, idx + lag + overhead) - 1,\n",
    "        dqcm[5000 + lag + idx] + np.cumsum(np.append(0, y_test[idx]))[:-1],\n",
    "        c='b', linestyle='dashed')\n",
    "ax.plot(np.arange(idx + lag, idx + lag + overhead) - 1,\n",
    "        dqcm[5000 + lag + idx] + np.cumsum(np.append(0, tree.predict(x_test[[idx]])[0]))[:-1], c='r')\n",
    "ax.fill_between(np.arange(idx + lag - 1, idx + lag + overhead - 1),\n",
    "                dqcm[5000 + lag + idx] + np.cumsum(np.append(0, lower))[:-1],\n",
    "                dqcm[5000 + lag + idx] + np.cumsum(np.append(0, upper))[:-1],\n",
    "                color='r', alpha=0.2)\n",
    "fig.tight_layout()\n",
    "plt.show()"
   ]
  },
  {
   "attachments": {},
   "cell_type": "markdown",
   "metadata": {},
   "source": [
    "# Gaussian Process"
   ]
  },
  {
   "cell_type": "code",
   "execution_count": null,
   "metadata": {},
   "outputs": [],
   "source": [
    "x = np.arange(dqcm.size)[:, None]\n",
    "k0 = WhiteKernel(noise_level=0.5)\n",
    "\n",
    "k1 = ConstantKernel(constant_value=0.5) * \\\n",
    "     ExpSineSquared(length_scale=1.0, periodicity=100, periodicity_bounds=(50, 200))\n",
    "\n",
    "k2 = ConstantKernel(constant_value=0.5) * \\\n",
    "     RBF(length_scale=2e2, length_scale_bounds=(1e2, 1e3))\n",
    "\n",
    "kernel = k0 + k2\n",
    "model = GaussianProcessRegressor(kernel=kernel, n_restarts_optimizer=10, normalize_y=True)"
   ]
  },
  {
   "cell_type": "code",
   "execution_count": null,
   "metadata": {},
   "outputs": [],
   "source": [
    "x_train, y_train = x[:1000], ddqcm[:1000]\n",
    "x_test, y_test = x[1000:1500], ddqcm[1000:1500]"
   ]
  },
  {
   "cell_type": "code",
   "execution_count": null,
   "metadata": {},
   "outputs": [],
   "source": [
    "model.fit(x_train, y_train)\n",
    "params = model.kernel_.get_params()\n",
    "params"
   ]
  },
  {
   "cell_type": "code",
   "execution_count": null,
   "metadata": {},
   "outputs": [],
   "source": [
    "samples = model.sample_y(x_train, n_samples=100)\n",
    "\n",
    "fig, ax = plt.subplots()\n",
    "for i in range(100):\n",
    "    sns.lineplot(x=x_train[..., 0], y=samples[:, i], alpha=0.2, ax=ax,\n",
    "                 color=sns.color_palette(palette='deep')[1])\n",
    "sns.lineplot(x=x_train[..., 0], y=y_train, label='y2', ax=ax,\n",
    "             color=sns.color_palette(palette='deep')[0]) \n",
    "fig.tight_layout()\n",
    "plt.show()"
   ]
  },
  {
   "cell_type": "code",
   "execution_count": null,
   "metadata": {},
   "outputs": [],
   "source": [
    "y_pred, std = model.predict(np.concatenate((x_train, x_test)), return_std=True)"
   ]
  },
  {
   "cell_type": "code",
   "execution_count": null,
   "metadata": {},
   "outputs": [],
   "source": [
    "%matplotlib widget\n",
    "fig, ax = plt.subplots(figsize=(8, 4))\n",
    "ax.plot(np.concatenate((x_train, x_test)), np.cumsum(np.concatenate((y_train, y_test))))\n",
    "ax.plot(np.concatenate((x_train, x_test)), np.cumsum(y_pred))\n",
    "ax.fill_between(np.concatenate((y_train, y_test)), y_pred - std, y_pred + std, alpha=0.1)\n",
    "ax.grid(True)\n",
    "plt.show()"
   ]
  }
 ],
 "metadata": {
  "language_info": {
   "name": "python"
  }
 },
 "nbformat": 4,
 "nbformat_minor": 2
}
