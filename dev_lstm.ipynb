{
 "cells": [
  {
   "cell_type": "code",
   "execution_count": null,
   "metadata": {},
   "outputs": [],
   "source": [
    "from qcm_data import QCMData, WindowDataset, AutoregressiveLSTM\n",
    "import numpy as np\n",
    "import matplotlib.pyplot as plt\n",
    "import pandas as pd\n",
    "import seaborn as sns\n",
    "from sklearn.model_selection import train_test_split\n",
    "from scipy.ndimage import uniform_filter, gaussian_filter\n",
    "from scipy.signal import find_peaks\n",
    "from scipy.interpolate import interp1d"
   ]
  },
  {
   "cell_type": "code",
   "execution_count": null,
   "metadata": {},
   "outputs": [],
   "source": [
    "data = QCMData.import_hdf('data/Z-230203B.h5', 'data')"
   ]
  },
  {
   "cell_type": "code",
   "execution_count": null,
   "metadata": {},
   "outputs": [],
   "source": [
    "qcm = data.extract_rotations('s1', limits=(np.deg2rad(270), np.deg2rad(390)))\n",
    "\n",
    "dqcm = np.diff(qcm)\n",
    "mins = find_peaks(-dqcm)[0]\n",
    "bgd = interp1d(mins, dqcm[mins], 'linear', fill_value='extrapolate')(np.arange(dqcm.size))\n",
    "\n",
    "maxs = find_peaks(dqcm)[0]\n",
    "maxs = maxs[dqcm[maxs] > 0.8 * (np.max(dqcm) - np.min(dqcm)) + np.min(dqcm)]\n",
    "period = (maxs[1:] - maxs[:-1]).mean()\n",
    "\n",
    "sgn = period * uniform_filter(dqcm - bgd, period, mode='nearest')"
   ]
  },
  {
   "cell_type": "code",
   "execution_count": null,
   "metadata": {},
   "outputs": [],
   "source": [
    "%matplotlib widget\n",
    "fig, ax = plt.subplots(figsize=(8, 4))\n",
    "ax.plot(np.arange(dqcm.size), dqcm)\n",
    "ax.plot(np.arange(bgd.size), bgd)\n",
    "ax.plot(np.arange(sgn.size), sgn)\n",
    "ax.grid(True)\n",
    "plt.show()"
   ]
  },
  {
   "cell_type": "markdown",
   "metadata": {},
   "source": [
    "# LSTM"
   ]
  },
  {
   "cell_type": "code",
   "execution_count": null,
   "metadata": {},
   "outputs": [],
   "source": [
    "import torch\n",
    "from torch.utils.data import DataLoader\n",
    "\n",
    "# torch.cuda.is_available() checks and returns a Boolean True if a GPU is available, else it'll return False\n",
    "is_cuda = torch.cuda.is_available()\n",
    "\n",
    "# If we have a GPU available, we'll set our device to GPU. We'll use this device variable later in our code.\n",
    "if is_cuda:\n",
    "    device = torch.device(\"cuda\")\n",
    "else:\n",
    "    device = torch.device(\"cpu\")"
   ]
  },
  {
   "cell_type": "code",
   "execution_count": null,
   "metadata": {},
   "outputs": [],
   "source": [
    "test_data.shape"
   ]
  },
  {
   "cell_type": "code",
   "execution_count": null,
   "metadata": {},
   "outputs": [],
   "source": [
    "data = np.stack([sgn, gaussian_filter(sgn, 50.0)])[:, 50:-50]\n",
    "\n",
    "batch_size, input_size, output_size, stride = 8, 200, 1, 1\n",
    "train_data, test_data, val_data = (data[:, :int(0.7 * data.shape[1])],\n",
    "                                   data[:, int(0.7 * data.shape[1]):int(0.85 * data.shape[1])],\n",
    "                                   data[:, int(0.85 * data.shape[1]):])\n",
    "\n",
    "train_dset = WindowDataset(train_data, input_size, output_size, stride)\n",
    "test_dset = WindowDataset(test_data, input_size, output_size, stride)\n",
    "val_dset = WindowDataset(val_data, input_size, output_size, stride)\n",
    "\n",
    "train_loader = DataLoader(train_dset, batch_size=batch_size, shuffle=True, drop_last=True)\n",
    "test_loader = DataLoader(test_dset, batch_size=batch_size, shuffle=True, drop_last=True)\n",
    "val_loader = DataLoader(val_dset, batch_size=batch_size, shuffle=True, drop_last=True)"
   ]
  },
  {
   "cell_type": "code",
   "execution_count": null,
   "metadata": {},
   "outputs": [],
   "source": [
    "i = np.random.randint(len(train_dset))\n",
    "x, y = train_dset[i]\n",
    "\n",
    "%matplotlib widget\n",
    "fig, ax = plt.subplots(figsize=(8, 4))\n",
    "ax.plot(np.arange(input_size), x)\n",
    "ax.scatter(np.arange(input_size, input_size + output_size), y)\n",
    "# ax.plot(data)\n",
    "ax.grid(True)\n",
    "plt.show()"
   ]
  },
  {
   "cell_type": "code",
   "execution_count": null,
   "metadata": {},
   "outputs": [],
   "source": [
    "lr = 0.001\n",
    "epochs = 50\n",
    "n_layers, hidden_size = 2, 128\n",
    "out_path = 'Z-230203B_2x128.pt'\n",
    "\n",
    "criterion = torch.nn.MSELoss()\n",
    "model = AutoregressiveLSTM(input_size=1, hidden_size=hidden_size,\n",
    "                           n_layers=n_layers, dropout=0.3)\n",
    "\n",
    "# model.load_state_dict(torch.load('Z-230203B_256.pt'))\n",
    "\n",
    "optimizer = torch.optim.Adam(model.parameters(), lr=lr)\n",
    "scheduler = torch.optim.lr_scheduler.OneCycleLR(optimizer, max_lr=lr, epochs=epochs,\n",
    "                                                steps_per_epoch=len(train_loader))"
   ]
  },
  {
   "cell_type": "code",
   "execution_count": null,
   "metadata": {},
   "outputs": [],
   "source": [
    "val_losses = []\n",
    "\n",
    "model.eval()\n",
    "h_t, c_t = model.init_hidden(batch_size)\n",
    "for x, y in val_loader:\n",
    "    y_hat, (h_t, c_t) = model.forecast(x, (h_t.data, c_t.data), output_size)\n",
    "\n",
    "    val_loss = criterion(y_hat, y)\n",
    "    val_losses.append(val_loss.item())\n",
    "    \n",
    "valid_loss_min = np.mean(val_losses)\n",
    "print(f\"Validation loss: {np.mean(valid_loss_min):.26}\")"
   ]
  },
  {
   "cell_type": "code",
   "execution_count": null,
   "metadata": {},
   "outputs": [],
   "source": [
    "verbose = True\n",
    "\n",
    "model.train()\n",
    "for epoch in range(epochs):\n",
    "    h_t, c_t = model.init_hidden(batch_size)\n",
    "    \n",
    "    for counter, (x, y) in enumerate(train_loader):\n",
    "\n",
    "        optimizer.zero_grad()\n",
    "        y_hat, (h_t, c_t) = model.forecast(x, (h_t.data, c_t.data), output_size)\n",
    "\n",
    "        loss = criterion(y_hat, y)\n",
    "        loss.backward()\n",
    "\n",
    "        optimizer.step()\n",
    "        scheduler.step()\n",
    "        \n",
    "    h_t, c_t = model.init_hidden(batch_size)\n",
    "    val_losses = []\n",
    "\n",
    "    model.eval()\n",
    "    for x, y in val_loader:\n",
    "        y_hat, (h_t, c_t) = model.forecast(x, (h_t.data, c_t.data), output_size)\n",
    "\n",
    "        val_loss = criterion(y_hat, y)\n",
    "        val_losses.append(val_loss.item())\n",
    "        \n",
    "    model.train()\n",
    "    if verbose:\n",
    "        print(f\"Epoch: {epoch + 1} / {epochs}, Step: {counter}, \"\\\n",
    "              f\"Loss: {loss.item():.6f}, Val Loss: {np.mean(val_losses):.6f}\")\n",
    "\n",
    "    if np.mean(val_losses) <= valid_loss_min:\n",
    "        torch.save(model.state_dict(), out_path)\n",
    "        if verbose:\n",
    "            print(f\"Validation loss decreased ({valid_loss_min:.6f} --> {np.mean(val_losses):.6f}). \"\\\n",
    "                    \"Saving model ...\")\n",
    "        valid_loss_min = np.mean(val_losses)"
   ]
  },
  {
   "cell_type": "code",
   "execution_count": null,
   "metadata": {},
   "outputs": [],
   "source": [
    "# Loading the best model\n",
    "out_path = 'Z-230203B_256_10pt.pt'\n",
    "model = AutoregressiveLSTM(input_size=1, hidden_size=256,\n",
    "                           n_layers=2, dropout=0.3)\n",
    "model.load_state_dict(torch.load(out_path))\n",
    "\n",
    "test_losses = []\n",
    "h_t, c_t = model.init_hidden(batch_size)\n",
    "\n",
    "model.eval()\n",
    "for x, y in test_loader:\n",
    "\n",
    "    y_hat, (h_t, c_t) = model.forecast(x, (h_t.data, c_t.data), output_size)\n",
    "    test_loss = criterion(y_hat, y)\n",
    "    test_losses.append(test_loss.item())\n",
    "\n",
    "print(f\"Test loss: {np.mean(test_losses):.26}\")"
   ]
  },
  {
   "cell_type": "code",
   "execution_count": null,
   "metadata": {},
   "outputs": [],
   "source": [
    "output_size = 10\n",
    "test_dset = WindowDataset(test_data, input_size, output_size, stride)\n",
    "test_loader = DataLoader(test_dset, batch_size=batch_size, shuffle=True, drop_last=True)\n",
    "\n",
    "idx = np.random.randint(len(test_dset))\n",
    "x, y = test_dset[[idx]]\n",
    "h = model.init_hidden(1)\n",
    "y_hat, h = model.forecast(x, h, output_size)\n",
    "\n",
    "%matplotlib widget\n",
    "fig, ax = plt.subplots()\n",
    "ax.plot(np.arange(input_size), x.squeeze())\n",
    "ax.scatter(np.arange(input_size , input_size + output_size), y, s=5)\n",
    "ax.scatter(np.arange(input_size , input_size + output_size),\n",
    "           y_hat.squeeze().detach().numpy(), s=5)\n",
    "ax.grid(True)\n",
    "plt.show()"
   ]
  },
  {
   "cell_type": "code",
   "execution_count": null,
   "metadata": {},
   "outputs": [],
   "source": [
    "dset = WindowDataset(data, input_size, output_size, stride)"
   ]
  },
  {
   "cell_type": "code",
   "execution_count": null,
   "metadata": {},
   "outputs": [],
   "source": [
    "from scipy.signal import lfilter\n",
    "\n",
    "alpha = 0.01\n",
    "hidden = model.init_hidden(1)\n",
    "y_hat, hidden = model.forecast(dset[[0]][0], hidden, output_size - 1)\n",
    "window = torch.concat((dset[[0]][0], y_hat), dim=1)\n",
    "\n",
    "curve, curve_hat = [], []\n",
    "for i in range(1000):\n",
    "    x, y = dset[[i]]\n",
    "    y0_hat = model(window[:, -input_size:], hidden)[0]\n",
    "    window = torch.concat((window, y0_hat), dim=1)[:, -(output_size + input_size):]\n",
    "    y_hat, hidden = model.forecast(x, hidden, output_size)\n",
    "    new_window = torch.concat((x, y_hat), dim=1)\n",
    "    residual = (new_window - window).detach().numpy()\n",
    "    update = torch.from_numpy(lfilter([1.0 - alpha], [1.0, -alpha], residual)).float()\n",
    "    window = window + update\n",
    "    ground_truth = torch.concat((x, y), dim=1)\n",
    "    curve.append(ground_truth.squeeze()[-1].detach().numpy())\n",
    "    curve_hat.append(window.squeeze()[-1].detach().numpy())"
   ]
  },
  {
   "cell_type": "code",
   "execution_count": null,
   "metadata": {},
   "outputs": [],
   "source": [
    "%matplotlib widget\n",
    "fig, ax = plt.subplots(figsize=(10, 5))\n",
    "ax.plot(np.arange(input_size + output_size), ground_truth.squeeze().detach().numpy())\n",
    "ax.plot(np.arange(input_size + output_size), window.squeeze().detach().numpy())\n",
    "ax.plot(np.arange(input_size + output_size), residual.squeeze())\n",
    "ax.plot()\n",
    "plt.show()"
   ]
  }
 ],
 "metadata": {
  "kernelspec": {
   "display_name": "Python 3 (ipykernel)",
   "language": "python",
   "name": "python3"
  },
  "language_info": {
   "codemirror_mode": {
    "name": "ipython",
    "version": 3
   },
   "file_extension": ".py",
   "mimetype": "text/x-python",
   "name": "python",
   "nbconvert_exporter": "python",
   "pygments_lexer": "ipython3",
   "version": "3.8.12"
  }
 },
 "nbformat": 4,
 "nbformat_minor": 2
}
